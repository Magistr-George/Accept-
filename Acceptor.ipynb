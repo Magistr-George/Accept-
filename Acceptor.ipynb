{
  "nbformat": 4,
  "nbformat_minor": 0,
  "metadata": {
    "colab": {
      "name": "Acceptor.ipynb",
      "provenance": []
    },
    "kernelspec": {
      "name": "python3",
      "display_name": "Python 3"
    }
  },
  "cells": [
    {
      "cell_type": "code",
      "metadata": {
        "id": "Bhe29xITrC23"
      },
      "source": [
        "#Чантурия Георгия МФ-22\r\n",
        "#Аксептор проверяющий, на арифмитическое выражение\r\n",
        "\r\n",
        "from enum import Enum\r\n",
        "\r\n",
        "\r\n",
        "class State(Enum):      #class of states\r\n",
        "    Digit_1 = '1'\r\n",
        "    Minus = '-'\r\n",
        "    Digit_2 = '2'\r\n",
        "    Error = 'Error'\r\n",
        "\r\n",
        "\r\n",
        "class Acceptor:     #class Acceptor\r\n",
        "    def accept(self, list_of_symbols):      #Avtomat\r\n",
        "        state = State.Digit_1\r\n",
        "        i = 0\r\n",
        "        while i < len(list_of_symbols):\r\n",
        "            if state == State.Digit_1:\r\n",
        "                if list_of_symbols[i].isdigit():\r\n",
        "                    state = State.Digit_1\r\n",
        "                else:\r\n",
        "                    state = State.Minus\r\n",
        "            elif state == State.Minus:\r\n",
        "                if list_of_symbols[i].isdigit():\r\n",
        "                    state = State.Digit_2\r\n",
        "                else:\r\n",
        "                    state = State.Error\r\n",
        "            elif state == State.Digit_2:\r\n",
        "                if list_of_symbols[i].isdigit():\r\n",
        "                    state = State.Digit_2\r\n",
        "                else:\r\n",
        "                    state = State.Error\r\n",
        "\r\n",
        "            i += 1\r\n",
        "        return state == State.Digit_2\r\n",
        "\r\n",
        "\r\n",
        "if __name__ == '__main__':      #main and his call\r\n",
        "    acceptor = Acceptor()\r\n",
        "    print(acceptor.accept(\"134329-545463\"))\r\n"
      ],
      "execution_count": null,
      "outputs": []
    }
  ]
}